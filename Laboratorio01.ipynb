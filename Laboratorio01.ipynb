{
 "cells": [
  {
   "cell_type": "markdown",
   "metadata": {},
   "source": [
    "# Laboratorio de práctica:\n",
    "\n",
    "## Nivel Básico"
   ]
  },
  {
   "cell_type": "markdown",
   "metadata": {},
   "source": [
    "1. De la cadena de caracteres `S` extraer el valor numérico, calcular el cuadrado del número y mostrar en pantalla el mensaje:\n",
    "\n",
    "\"El cuadrado del número 2 es 8.\""
   ]
  },
  {
   "cell_type": "code",
   "execution_count": 1,
   "metadata": {},
   "outputs": [],
   "source": [
    "S = \"El cubo del número 2 es\""
   ]
  },
  {
   "cell_type": "code",
   "execution_count": 2,
   "metadata": {},
   "outputs": [],
   "source": [
    "# Solución:\n"
   ]
  },
  {
   "cell_type": "markdown",
   "metadata": {},
   "source": [
    "2. Calcular el valor máximo de los números en la lista `L`. Mostrar en pantalla el mensaje:\n",
    "\n",
    "\"El valor máximo de los números es 10.\""
   ]
  },
  {
   "cell_type": "code",
   "execution_count": 3,
   "metadata": {},
   "outputs": [],
   "source": [
    "L = [2, 4, 10, 6, 8]"
   ]
  },
  {
   "cell_type": "code",
   "execution_count": 4,
   "metadata": {},
   "outputs": [],
   "source": [
    "# Solución:\n"
   ]
  },
  {
   "cell_type": "markdown",
   "metadata": {},
   "source": [
    "3. Calcular la cantidad de elementos que tiene la lista `L` y mostrar en pantalla el siguiente mensaje:\n",
    "\n",
    "\"La lista $L$ tiene $5$ elementos.\""
   ]
  },
  {
   "cell_type": "code",
   "execution_count": 5,
   "metadata": {},
   "outputs": [],
   "source": [
    "# Solución:\n"
   ]
  },
  {
   "cell_type": "markdown",
   "metadata": {},
   "source": [
    "4. Implementar una función que me permita calcular las raíces de un polinomio de segundo orden mediante la fórmula general. \n",
    "\n",
    "Al ejecutar la función sobre el polinomio $2x^2 + 5x - 3$, se debe mostrar el siguiente mensaje en pantalla:\n",
    "\n",
    "\"Las raíces son $x_1$ = 0.5 y $x_2$ = -3.0\""
   ]
  },
  {
   "cell_type": "code",
   "execution_count": 6,
   "metadata": {},
   "outputs": [],
   "source": [
    "# Solución:\n"
   ]
  },
  {
   "cell_type": "markdown",
   "metadata": {},
   "source": [
    "## Nivel Intermedio\n",
    "\n",
    "4. Calcular el máximo común divisor (MCD) de los elementos del conjunto `C` usando el algoritmo de Euclides. Mostrar en pantalla el mensaje: \n",
    "\n",
    "\"El MCD de los números es 12\"\n",
    "\n",
    "Ayuda: El algoritmo de Euclides nos dice que para calcular el MCD entre dos números ($a$ y $b$), se ejecuta las siguientes reglas:\n",
    "\n",
    "- Inicializamos el algoritmo con $x = max\\{a,b\\}$ y $y = \\min\\{a,b\\}$. \n",
    "- Calculamos el residuo entre $x$ y $y$.\n",
    "- Si $y \\neq 0$, volvemos a aplicar el proceso para $a = y$ y $b = x \\text{ mod } y$.\n",
    "- Caso contrario, $y$ es el valor buscado."
   ]
  },
  {
   "cell_type": "code",
   "execution_count": 7,
   "metadata": {},
   "outputs": [],
   "source": [
    "C = {60, 12, 48, 36}"
   ]
  },
  {
   "cell_type": "code",
   "execution_count": 8,
   "metadata": {},
   "outputs": [],
   "source": [
    "# Solución:\n"
   ]
  },
  {
   "cell_type": "markdown",
   "metadata": {},
   "source": [
    "5.  Dado el texto `T`, contar la frecuencia de cada palabra y mostrar el resultado como un diccionario."
   ]
  },
  {
   "cell_type": "code",
   "execution_count": 9,
   "metadata": {},
   "outputs": [],
   "source": [
    "T = \"La matemática es la reina de las ciencias y la aritmética es la reina de las matemáticas\""
   ]
  },
  {
   "cell_type": "code",
   "execution_count": 10,
   "metadata": {},
   "outputs": [],
   "source": [
    "# Solución:\n"
   ]
  },
  {
   "cell_type": "markdown",
   "metadata": {},
   "source": [
    "## Nivel Avanzado\n",
    "\n",
    "6. Usando el módulo `matplotlib`, graficar la función $f(x) = x^3$, cuyo dominio es el intervalo $I= [-3,3]$."
   ]
  },
  {
   "cell_type": "code",
   "execution_count": 11,
   "metadata": {},
   "outputs": [],
   "source": [
    "# Solución:\n"
   ]
  },
  {
   "cell_type": "markdown",
   "metadata": {},
   "source": [
    "7. Crear un clase llamada `Grafo` con las siguientes caracteristicas:\n",
    "\n",
    "    - Recibe como argumentos un conjunto de nodos y una lista con las arcos.\n",
    "    - Tiene una función que permite mostrar los nodos del grafo.\n",
    "    - Tiene una función que muestra los arcos del grafo.\n",
    "    - Tiene una función que muestra cuantos nodos y cuantas arcos tiene el grafo.\n",
    "\n",
    "Usando la clase definir el grafo $G= (V,A)$, donde $V = \\{1, 2, 3, 4\\}$ y $A= \\{(1, 2), (2, 3), (1, 4), (3, 4)\\}$.\n",
    "Mostrar los nodos, arcos y cardinalidades de los conjuntos $V$ y $A$."
   ]
  },
  {
   "cell_type": "code",
   "execution_count": 12,
   "metadata": {},
   "outputs": [],
   "source": [
    "# Solución:\n"
   ]
  }
 ],
 "metadata": {
  "kernelspec": {
   "display_name": "Python 3",
   "language": "python",
   "name": "python3"
  },
  "language_info": {
   "codemirror_mode": {
    "name": "ipython",
    "version": 3
   },
   "file_extension": ".py",
   "mimetype": "text/x-python",
   "name": "python",
   "nbconvert_exporter": "python",
   "pygments_lexer": "ipython3",
   "version": "3.7.16"
  }
 },
 "nbformat": 4,
 "nbformat_minor": 2
}
